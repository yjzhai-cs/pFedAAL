{
 "cells": [
  {
   "cell_type": "code",
   "execution_count": 1,
   "id": "1f98da21",
   "metadata": {},
   "outputs": [],
   "source": [
    "import torch\n",
    "import torch.nn as nn\n",
    "import torch.nn.functional as F"
   ]
  },
  {
   "cell_type": "code",
   "execution_count": 2,
   "id": "17bccbc6",
   "metadata": {},
   "outputs": [],
   "source": [
    "class SimpleCNN(nn.Module):\n",
    "    def __init__(self):\n",
    "        super(SimpleCNN, self).__init__()\n",
    "        \n",
    "        # 定义第一个卷积层，输入通道1（例如灰度图像），输出通道32，卷积核大小3x3\n",
    "        self.conv1 = nn.Conv2d(in_channels=1, out_channels=32, kernel_size=3, padding=1)\n",
    "        \n",
    "        # 定义第二个卷积层，输入通道32，输出通道64，卷积核大小3x3\n",
    "        self.conv2 = nn.Conv2d(in_channels=32, out_channels=64, kernel_size=3, padding=1)\n",
    "        \n",
    "        # 定义第三个卷积层，输入通道64，输出通道128，卷积核大小3x3\n",
    "        self.conv3 = nn.Conv2d(in_channels=64, out_channels=128, kernel_size=3, padding=1)\n",
    "        \n",
    "        # 定义全连接层\n",
    "        self.fc1 = nn.Linear(128 * 8 * 8, 512)  # 假设输入图像大小为 32x32\n",
    "        self.fc2 = nn.Linear(512, 10)  # 输出10个类\n",
    "        \n",
    "        # dropout层\n",
    "        self.dropout = nn.Dropout(0.5)\n",
    "\n",
    "    def forward(self, x):\n",
    "        # 第一个卷积层 + ReLU + 最大池化\n",
    "        x = F.relu(self.conv1(x))\n",
    "        x = F.max_pool2d(x, 2)\n",
    "        \n",
    "        # 第二个卷积层 + ReLU + 最大池化\n",
    "        x = F.relu(self.conv2(x))\n",
    "        x = F.max_pool2d(x, 2)\n",
    "        \n",
    "        # 第三个卷积层 + ReLU + 最大池化\n",
    "        x = F.relu(self.conv3(x))\n",
    "        x = F.max_pool2d(x, 2)\n",
    "        \n",
    "        # 展平多维输入数据为一维\n",
    "        x = x.view(-1, 128 * 8 * 8)\n",
    "        \n",
    "        # 全连接层 + dropout\n",
    "        x = F.relu(self.fc1(x))\n",
    "        x = self.dropout(x)\n",
    "        \n",
    "        # 最后一层输出\n",
    "        x = self.fc2(x)\n",
    "        \n",
    "        return x\n"
   ]
  },
  {
   "cell_type": "code",
   "execution_count": 3,
   "id": "ba1761f1",
   "metadata": {
    "scrolled": true
   },
   "outputs": [
    {
     "name": "stdout",
     "output_type": "stream",
     "text": [
      "SimpleCNN(\n",
      "  (conv1): Conv2d(1, 32, kernel_size=(3, 3), stride=(1, 1), padding=(1, 1))\n",
      "  (conv2): Conv2d(32, 64, kernel_size=(3, 3), stride=(1, 1), padding=(1, 1))\n",
      "  (conv3): Conv2d(64, 128, kernel_size=(3, 3), stride=(1, 1), padding=(1, 1))\n",
      "  (fc1): Linear(in_features=8192, out_features=512, bias=True)\n",
      "  (fc2): Linear(in_features=512, out_features=10, bias=True)\n",
      "  (dropout): Dropout(p=0.5, inplace=False)\n",
      ")\n"
     ]
    }
   ],
   "source": [
    "# 实例化模型\n",
    "model = SimpleCNN()\n",
    "\n",
    "# 打印模型架构\n",
    "print(model)\n"
   ]
  },
  {
   "cell_type": "code",
   "execution_count": 8,
   "id": "3df170c2",
   "metadata": {
    "scrolled": true
   },
   "outputs": [
    {
     "name": "stdout",
     "output_type": "stream",
     "text": [
      "模型的所有参数：\n",
      "conv1.weight - torch.Size([32, 1, 3, 3])\n",
      "conv1.bias - torch.Size([32])\n",
      "conv2.weight - torch.Size([64, 32, 3, 3])\n",
      "conv2.bias - torch.Size([64])\n",
      "conv3.weight - torch.Size([128, 64, 3, 3])\n",
      "conv3.bias - torch.Size([128])\n",
      "fc1.weight - torch.Size([512, 8192])\n",
      "fc1.bias - torch.Size([512])\n",
      "fc2.weight - torch.Size([10, 512])\n",
      "fc2.bias - torch.Size([10])\n"
     ]
    }
   ],
   "source": [
    "print(\"模型的所有参数：\")\n",
    "for name, param in model.named_parameters():\n",
    "    print(f\"{name} - {param.size()}\")"
   ]
  },
  {
   "cell_type": "code",
   "execution_count": 34,
   "id": "3ad6f818",
   "metadata": {},
   "outputs": [
    {
     "name": "stdout",
     "output_type": "stream",
     "text": [
      "['conv1', 'conv2']\n",
      "['conv3', 'fc1', 'fc2']\n"
     ]
    }
   ],
   "source": [
    "def H(model: torch.nn.Module, L: int):\n",
    "    blocks_name = set(n.split(\".\")[0] for n, _ in model.named_parameters())\n",
    "    layers_name = []\n",
    "    \n",
    "    for n, _ in model.named_parameters():\n",
    "        name = n.split(\".\")[0]\n",
    "        if name in blocks_name and name not in layers_name:\n",
    "            layers_name.append(name)\n",
    "    \n",
    "    layers_num = len(layers_name)\n",
    "    \n",
    "    if layers_num < L:\n",
    "        raise RuntimeError(f\"layers_num < L({L})\")\n",
    "    \n",
    "    based_layers_name = layers_name[:layers_num - L]\n",
    "    personalized_layers_name = layers_name[layers_num - L:]\n",
    "    \n",
    "    print(based_layers_name)\n",
    "    print(personalized_layers_name)\n",
    "    \n",
    "    \n",
    "    \n",
    "H(model, 3)"
   ]
  },
  {
   "cell_type": "code",
   "execution_count": 38,
   "id": "60c21bdd",
   "metadata": {},
   "outputs": [
    {
     "name": "stdout",
     "output_type": "stream",
     "text": [
      "conv1.weight torch.Size([32, 1, 3, 3]) torch.Size([32, 1, 3, 3])\n",
      "conv1.bias torch.Size([32]) torch.Size([32])\n",
      "conv2.weight torch.Size([64, 32, 3, 3]) torch.Size([64, 32, 3, 3])\n",
      "conv2.bias torch.Size([64]) torch.Size([64])\n",
      "conv3.weight torch.Size([128, 64, 3, 3]) torch.Size([128, 64, 3, 3])\n",
      "conv3.bias torch.Size([128]) torch.Size([128])\n",
      "fc1.weight torch.Size([512, 8192]) torch.Size([512, 8192])\n",
      "fc1.bias torch.Size([512]) torch.Size([512])\n",
      "fc2.weight torch.Size([10, 512]) torch.Size([10, 512])\n",
      "fc2.bias torch.Size([10]) torch.Size([10])\n"
     ]
    }
   ],
   "source": [
    "for (k, p1), p0 in zip( model.named_parameters(),model.parameters()):\n",
    "    print(k, p1.shape, p0.shape)"
   ]
  },
  {
   "cell_type": "code",
   "execution_count": 43,
   "id": "8cdcd8db",
   "metadata": {},
   "outputs": [
    {
     "data": {
      "text/plain": [
       "[1, 2, 4, 5, 6]"
      ]
     },
     "execution_count": 43,
     "metadata": {},
     "output_type": "execute_result"
    }
   ],
   "source": [
    "a = [1,2,3,4,5,6]\n",
    "b = a[:2] \n",
    "b = b + a[3:]\n",
    "b"
   ]
  },
  {
   "cell_type": "code",
   "execution_count": 48,
   "id": "dd7efa20",
   "metadata": {},
   "outputs": [
    {
     "data": {
      "text/plain": [
       "tensor([1.3333, 2.6667, 4.0000])"
      ]
     },
     "execution_count": 48,
     "metadata": {},
     "output_type": "execute_result"
    }
   ],
   "source": [
    "a = [torch.tensor(1), torch.tensor(2), torch.tensor(3)]\n",
    "\n",
    "b = torch.tensor(a)\n",
    "a, b\n",
    "b + b / 3"
   ]
  }
 ],
 "metadata": {
  "kernelspec": {
   "display_name": "Python 3 (ipykernel)",
   "language": "python",
   "name": "python3"
  },
  "language_info": {
   "codemirror_mode": {
    "name": "ipython",
    "version": 3
   },
   "file_extension": ".py",
   "mimetype": "text/x-python",
   "name": "python",
   "nbconvert_exporter": "python",
   "pygments_lexer": "ipython3",
   "version": "3.8.0"
  }
 },
 "nbformat": 4,
 "nbformat_minor": 5
}
